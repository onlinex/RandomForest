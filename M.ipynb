{
 "cells": [
  {
   "cell_type": "code",
   "execution_count": 10,
   "metadata": {},
   "outputs": [],
   "source": [
    "import numpy as np\n",
    "import pandas as pd\n",
    "from sklearn.ensemble import RandomForestRegressor\n",
    "from sklearn.exceptions import NotFittedError\n",
    "from sklearn.model_selection import RepeatedKFold\n",
    "from sklearn.metrics import mean_squared_error"
   ]
  },
  {
   "cell_type": "code",
   "execution_count": 55,
   "metadata": {},
   "outputs": [],
   "source": [
    "class model:\n",
    "    def __init__(self):\n",
    "        self.forest_cpu = RandomForestRegressor(n_estimators=21, random_state=1)\n",
    "        self.forest_ram = RandomForestRegressor(n_estimators=21, random_state=1)\n",
    "    \n",
    "    def train(self, df):\n",
    "        Y_cpu = df['cpu'].values.astype(float)\n",
    "        Y_ram = df['ram'].values.astype(float)\n",
    "        \n",
    "        X = df.iloc[:, [1,2,3]].values.astype(float)\n",
    "        \n",
    "        X_cpu = self.compose_cpu(X)\n",
    "        X_ram = self.compose_ram(X)\n",
    "        \n",
    "        self.forest_cpu.fit(X_cpu, Y_cpu)\n",
    "        self.forest_ram.fit(X_ram, Y_ram)\n",
    "        \n",
    "        # scoring\n",
    "        rkf = RepeatedKFold(n_splits = 3, n_repeats = 5, random_state=1)\n",
    "        # cpu score\n",
    "        cpu_rmse = []\n",
    "        for train_index, test_index in rkf.split(X_cpu):\n",
    "            X_train, X_test = X_cpu[train_index], X_cpu[test_index]\n",
    "            Y_train, Y_test = Y_cpu[train_index], Y_cpu[test_index]\n",
    "            \n",
    "            \n",
    "            forest_cpu = RandomForestRegressor(n_estimators=21, random_state=1)\n",
    "            forest_cpu.fit(X_train, Y_train)\n",
    "            \n",
    "            R = mean_squared_error(Y_test, forest_cpu.predict(X_test))\n",
    "            cpu_rmse.append(np.sqrt(R))\n",
    "        \n",
    "        # ram score\n",
    "        ram_rmse = []\n",
    "        for train_index, test_index in rkf.split(X_ram):\n",
    "            X_train, X_test = X_ram[train_index], X_ram[test_index]\n",
    "            Y_train, Y_test = Y_ram[train_index], Y_ram[test_index]\n",
    "            \n",
    "            forest_ram = RandomForestRegressor(n_estimators=21, random_state=1)\n",
    "            forest_ram.fit(X_train, Y_train)\n",
    "            \n",
    "            R = mean_squared_error(Y_test, forest_ram.predict(X_test))\n",
    "            ram_rmse.append(np.sqrt(R))\n",
    "            \n",
    "        forest_cpu, forest_ram = None, None\n",
    "        \n",
    "        return np.round(np.mean(cpu_rmse), 1), np.round(np.mean(ram_rmse), 1)\n",
    "    \n",
    "    def check(func):\n",
    "        def wrapper(*args, **kwargs):\n",
    "            try:\n",
    "                return func(*args, **kwargs)\n",
    "            except NotFittedError as e:\n",
    "                print('Model is not yet fitted!')\n",
    "            except:\n",
    "                print('The model was trained on another data!')\n",
    "        return wrapper\n",
    "        \n",
    "    @check\n",
    "    def predict(self, df):\n",
    "        X = df.iloc[:, [1,2,3]].values.astype(float)\n",
    "        \n",
    "        cpu = self.forest_cpu.predict(self.compose_cpu(X))\n",
    "        ram = self.forest_ram.predict(self.compose_ram(X))\n",
    "        \n",
    "        cpu = np.clip(cpu, 0, None)\n",
    "        ram = np.clip(ram, 0, None)\n",
    "        \n",
    "        return cpu, ram\n",
    "    \n",
    "    @check\n",
    "    def predict_cpu(self, df):\n",
    "        X = df.iloc[:, [1,2,3]].values.astype(float)\n",
    "        return np.clip(self.forest_cpu.predict(self.compose_cpu(X)), 0, None)\n",
    "    \n",
    "    @check\n",
    "    def predict_ram(self, df):\n",
    "        X = df.iloc[:, [1,2,3]].values.astype(float)\n",
    "        return np.clip(self.forest_ram.predict(self.compose_ram(X)), 0, None)\n",
    "        \n",
    "    def compose_cpu(self, x):\n",
    "        return x\n",
    "        \n",
    "    def compose_ram(self, x):\n",
    "        x = np.hstack((x, np.log(x+1)))\n",
    "        return x"
   ]
  },
  {
   "cell_type": "code",
   "execution_count": 56,
   "metadata": {},
   "outputs": [],
   "source": [
    "m = model()"
   ]
  },
  {
   "cell_type": "code",
   "execution_count": 57,
   "metadata": {},
   "outputs": [],
   "source": [
    "train_df = pd.read_excel('train.xlsx', index_col=0)\n",
    "test_df  = pd.read_excel('test.xlsx',  index_col=0)"
   ]
  },
  {
   "cell_type": "code",
   "execution_count": 58,
   "metadata": {},
   "outputs": [
    {
     "data": {
      "text/plain": [
       "(894.74, 25868.18)"
      ]
     },
     "execution_count": 58,
     "metadata": {},
     "output_type": "execute_result"
    }
   ],
   "source": [
    "m.train(train_df)"
   ]
  },
  {
   "cell_type": "code",
   "execution_count": 7,
   "metadata": {},
   "outputs": [],
   "source": [
    "cpu, ram = m.predict(pd.read_excel('test.xlsx'))"
   ]
  },
  {
   "cell_type": "code",
   "execution_count": 8,
   "metadata": {},
   "outputs": [
    {
     "data": {
      "text/plain": [
       "array([1423.47619048,    7.85714286, 1051.76190476, 1423.47619048,\n",
       "       1625.66666667,    9.23809524, 3965.80952381,    9.95238095,\n",
       "       1609.28571429, 1423.47619048, 1423.47619048, 1221.9047619 ,\n",
       "        400.19047619, 1171.95238095, 1219.95238095, 1285.52380952,\n",
       "       1763.42857143,    9.95238095,  193.14285714,    9.95238095,\n",
       "       1257.76190476, 1257.76190476,  235.47619048])"
      ]
     },
     "execution_count": 8,
     "metadata": {},
     "output_type": "execute_result"
    }
   ],
   "source": [
    "cpu"
   ]
  },
  {
   "cell_type": "code",
   "execution_count": null,
   "metadata": {},
   "outputs": [],
   "source": []
  }
 ],
 "metadata": {
  "kernelspec": {
   "display_name": "Python 3.6.5 64-bit ('base': conda)",
   "language": "python",
   "name": "python36564bitbaseconda4db4657131b6427e8cce7e3834bee618"
  },
  "language_info": {
   "codemirror_mode": {
    "name": "ipython",
    "version": 3
   },
   "file_extension": ".py",
   "mimetype": "text/x-python",
   "name": "python",
   "nbconvert_exporter": "python",
   "pygments_lexer": "ipython3",
   "version": "3.6.5"
  }
 },
 "nbformat": 4,
 "nbformat_minor": 2
}
